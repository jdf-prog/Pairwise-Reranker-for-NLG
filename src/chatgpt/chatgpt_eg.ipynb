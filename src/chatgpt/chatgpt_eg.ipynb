{
 "cells": [
  {
   "cell_type": "code",
   "execution_count": 14,
   "metadata": {},
   "outputs": [
    {
     "name": "stdout",
     "output_type": "stream",
     "text": [
      "I will hold your watch while you stand in line for tickets.\n",
      "I will hold the watch while you stand over there.\n",
      "I will hold your watch while you stand in line for tickets.\n",
      "I will hold the watch while you stand and tie your shoelaces.\n",
      "I will hold your watch while you stand in line.\n"
     ]
    }
   ],
   "source": [
    "# Note: you need to be using OpenAI Python v0.27.0 for the code below to work\n",
    "import openai\n",
    "\n",
    "response = openai.ChatCompletion.create(\n",
    "  model=\"gpt-3.5-turbo\",\n",
    "  messages=[\n",
    "        {\"role\": \"user\", \"content\": \"Generate a reasonable sentence with the following words: hold watch stand\"},\n",
    "    ],\n",
    "  n=5,\n",
    "  temperature=1.1,\n",
    "  top_p=1.0,\n",
    ")\n",
    "for choice in response[\"choices\"]:\n",
    "    print(choice[\"message\"][\"content\"].strip(\" \\n\"))"
   ]
  },
  {
   "cell_type": "code",
   "execution_count": null,
   "metadata": {},
   "outputs": [],
   "source": [
    "print(response)\n"
   ]
  }
 ],
 "metadata": {
  "kernelspec": {
   "display_name": "dualfid",
   "language": "python",
   "name": "python3"
  },
  "language_info": {
   "codemirror_mode": {
    "name": "ipython",
    "version": 3
   },
   "file_extension": ".py",
   "mimetype": "text/x-python",
   "name": "python",
   "nbconvert_exporter": "python",
   "pygments_lexer": "ipython3",
   "version": "3.9.13"
  },
  "orig_nbformat": 4
 },
 "nbformat": 4,
 "nbformat_minor": 2
}
