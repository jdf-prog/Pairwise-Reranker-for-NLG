{
 "cells": [
  {
   "cell_type": "code",
   "execution_count": null,
   "metadata": {},
   "outputs": [],
   "source": [
    "import openai\n",
    "\n",
    "openai.api_key = \"\"\n",
    "\n",
    "completion = openai.Completion.create(\n",
    "    model=\"text-curie-001\",\n",
    "    prompt=\"Generate a sentence with the following words: \\npick tree bag apple\",\n",
    "    max_tokens=25,\n",
    "    temperature=0.6, # Higher values means the model will take more risks. Try 0.9 or 1.0.\n",
    "    top_p=0.7, # We generally recommend altering this or temperature but not both.\n",
    "    frequency_penalty=1.0,\n",
    "    presence_penalty=1.0,\n",
    "    n=2, # How many completions to generate for each prompt.\n",
    "    # logprobs=5, # Include the log probabilities on the logprobs most likely tokens, as well the chosen tokens\n",
    "    best_of=None, # Generates best_of completions server-side and returns the \"best\" (the one with the highest log probability per token). Results cannot be streamed.\n",
    ")\n",
    "print(completion)"
   ]
  },
  {
   "cell_type": "code",
   "execution_count": null,
   "metadata": {},
   "outputs": [],
   "source": []
  }
 ],
 "metadata": {
  "kernelspec": {
   "display_name": "dualfid",
   "language": "python",
   "name": "python3"
  },
  "language_info": {
   "codemirror_mode": {
    "name": "ipython",
    "version": 3
   },
   "file_extension": ".py",
   "mimetype": "text/x-python",
   "name": "python",
   "nbconvert_exporter": "python",
   "pygments_lexer": "ipython3",
   "version": "3.9.13 (main, Aug 25 2022, 23:26:10) \n[GCC 11.2.0]"
  },
  "orig_nbformat": 4,
  "vscode": {
   "interpreter": {
    "hash": "cf261f3331a58fead54a6901059364ab3a07142c9197a9ed46d25600af580158"
   }
  }
 },
 "nbformat": 4,
 "nbformat_minor": 2
}
